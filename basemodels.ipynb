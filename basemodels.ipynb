{
 "cells": [
  {
   "cell_type": "code",
   "execution_count": 1,
   "id": "5633bf7d-934f-45d4-b0a1-ce61d3dc043b",
   "metadata": {},
   "outputs": [],
   "source": [
    "import pandas as pd\n",
    "import matplotlib.pyplot as plt\n",
    "import seaborn as sns\n",
    "from sklearn.model_selection import train_test_split\n",
    "from sklearn.linear_model import LogisticRegression\n",
    "from sklearn.ensemble import RandomForestClassifier\n",
    "from spacy.lang.en import English\n",
    "import sklearn.metrics as metrics\n",
    "from sklearn.feature_extraction.text import CountVectorizer"
   ]
  },
  {
   "cell_type": "markdown",
   "id": "016f9ce4-1f43-476b-8714-c3ce44ed1762",
   "metadata": {},
   "source": [
    "Create n-grams to be used as features"
   ]
  },
  {
   "cell_type": "code",
   "execution_count": 2,
   "id": "a09eedd1",
   "metadata": {},
   "outputs": [],
   "source": [
    "# read in cleaned data\n",
    "grouped = pd.read_csv(\"group.csv\")"
   ]
  },
  {
   "cell_type": "code",
   "execution_count": null,
   "id": "f43caa69",
   "metadata": {},
   "outputs": [],
   "source": [
    "# rename the column because textsplt is a weird name tbh\n",
    "grouped = grouped.rename(columns={\"textsplt\": \"text\"})"
   ]
  },
  {
   "cell_type": "code",
   "execution_count": 3,
   "id": "b846dd39-b8db-41f5-95e7-c1687b70c477",
   "metadata": {
    "scrolled": true
   },
   "outputs": [],
   "source": [
    "nlp = English(parser=False)\n",
    "all_features = []\n",
    "\n",
    "def ngrams(tokens, n):\n",
    "    # Returns all ngrams of size n in sentence, where an ngram is itself a list of tokens\n",
    "    return [tokens[i:i+n] for i in range(len(tokens)-n+1)]\n",
    "\n",
    "for text in grouped['text']:\n",
    "    spacy_analysis  = nlp(text)\n",
    "    spacy_tokens      = [token.orth_ for token in spacy_analysis]\n",
    "    #normalized_tokens = normalize_tokens(spacy_tokens)\n",
    "\n",
    "        # Collect unigram tokens as features\n",
    "        # Exclude unigrams that are stopwords or are punctuation strings (e.g. '.' or ',')\n",
    "    unigrams = [token for token in spacy_tokens]\n",
    "        \n",
    "        # Collect string bigram tokens as features\n",
    "    bigrams = []\n",
    "    bigrams = ngrams(spacy_tokens, 2) \n",
    "    bigram_tokens = [\"_\".join(bigram) for bigram in bigrams]\n",
    "    \n",
    "    feature_string = \" \".join(unigrams + bigram_tokens) \n",
    "    \n",
    "    all_features.append(feature_string)\n",
    "\n",
    "grouped['ngrams'] = all_features"
   ]
  },
  {
   "cell_type": "code",
   "execution_count": 4,
   "id": "f1fc9c97-6e02-4369-8ee4-78e44299efc4",
   "metadata": {},
   "outputs": [],
   "source": [
    "X_train, X_test, y_train, y_test = train_test_split(grouped['text'], grouped['cNEU'], test_size=0.15, random_state = 1)"
   ]
  },
  {
   "cell_type": "code",
   "execution_count": 5,
   "id": "d9dc8143-daa3-4055-901b-9c8c6d519bcd",
   "metadata": {},
   "outputs": [
    {
     "data": {
      "text/plain": [
       "Unnamed: 0    1737\n",
       "sNEU          1737\n",
       "cNEU          1737\n",
       "text          1737\n",
       "ngrams        1737\n",
       "dtype: int64"
      ]
     },
     "execution_count": 5,
     "metadata": {},
     "output_type": "execute_result"
    }
   ],
   "source": [
    "grouped[grouped['cNEU']==\"n\"].count()"
   ]
  },
  {
   "cell_type": "code",
   "execution_count": 6,
   "id": "83b22ed2-36be-4d74-9964-dacb26f1d62a",
   "metadata": {},
   "outputs": [
    {
     "name": "stdout",
     "output_type": "stream",
     "text": [
      "Number of neurotic labels in data\n"
     ]
    },
    {
     "data": {
      "text/plain": [
       "Unnamed: 0    1032\n",
       "sNEU          1032\n",
       "cNEU          1032\n",
       "text          1032\n",
       "ngrams        1032\n",
       "dtype: int64"
      ]
     },
     "execution_count": 6,
     "metadata": {},
     "output_type": "execute_result"
    }
   ],
   "source": [
    "print(\"Number of neurotic labels in data\")\n",
    "grouped[grouped['cNEU']==\"y\"].count()"
   ]
  },
  {
   "cell_type": "code",
   "execution_count": 6,
   "id": "8339760b-f498-4784-9133-005e1dbaa229",
   "metadata": {},
   "outputs": [
    {
     "name": "stderr",
     "output_type": "stream",
     "text": [
      "/Users/irisyu/opt/anaconda3/lib/python3.9/site-packages/sklearn/feature_extraction/text.py:404: UserWarning: Your stop_words may be inconsistent with your preprocessing. Tokenizing the stop words generated tokens ['ll', 've'] not in stop_words.\n",
      "  warnings.warn(\n"
     ]
    },
    {
     "data": {
      "text/html": [
       "<style>#sk-container-id-1 {color: black;background-color: white;}#sk-container-id-1 pre{padding: 0;}#sk-container-id-1 div.sk-toggleable {background-color: white;}#sk-container-id-1 label.sk-toggleable__label {cursor: pointer;display: block;width: 100%;margin-bottom: 0;padding: 0.3em;box-sizing: border-box;text-align: center;}#sk-container-id-1 label.sk-toggleable__label-arrow:before {content: \"▸\";float: left;margin-right: 0.25em;color: #696969;}#sk-container-id-1 label.sk-toggleable__label-arrow:hover:before {color: black;}#sk-container-id-1 div.sk-estimator:hover label.sk-toggleable__label-arrow:before {color: black;}#sk-container-id-1 div.sk-toggleable__content {max-height: 0;max-width: 0;overflow: hidden;text-align: left;background-color: #f0f8ff;}#sk-container-id-1 div.sk-toggleable__content pre {margin: 0.2em;color: black;border-radius: 0.25em;background-color: #f0f8ff;}#sk-container-id-1 input.sk-toggleable__control:checked~div.sk-toggleable__content {max-height: 200px;max-width: 100%;overflow: auto;}#sk-container-id-1 input.sk-toggleable__control:checked~label.sk-toggleable__label-arrow:before {content: \"▾\";}#sk-container-id-1 div.sk-estimator input.sk-toggleable__control:checked~label.sk-toggleable__label {background-color: #d4ebff;}#sk-container-id-1 div.sk-label input.sk-toggleable__control:checked~label.sk-toggleable__label {background-color: #d4ebff;}#sk-container-id-1 input.sk-hidden--visually {border: 0;clip: rect(1px 1px 1px 1px);clip: rect(1px, 1px, 1px, 1px);height: 1px;margin: -1px;overflow: hidden;padding: 0;position: absolute;width: 1px;}#sk-container-id-1 div.sk-estimator {font-family: monospace;background-color: #f0f8ff;border: 1px dotted black;border-radius: 0.25em;box-sizing: border-box;margin-bottom: 0.5em;}#sk-container-id-1 div.sk-estimator:hover {background-color: #d4ebff;}#sk-container-id-1 div.sk-parallel-item::after {content: \"\";width: 100%;border-bottom: 1px solid gray;flex-grow: 1;}#sk-container-id-1 div.sk-label:hover label.sk-toggleable__label {background-color: #d4ebff;}#sk-container-id-1 div.sk-serial::before {content: \"\";position: absolute;border-left: 1px solid gray;box-sizing: border-box;top: 0;bottom: 0;left: 50%;z-index: 0;}#sk-container-id-1 div.sk-serial {display: flex;flex-direction: column;align-items: center;background-color: white;padding-right: 0.2em;padding-left: 0.2em;position: relative;}#sk-container-id-1 div.sk-item {position: relative;z-index: 1;}#sk-container-id-1 div.sk-parallel {display: flex;align-items: stretch;justify-content: center;background-color: white;position: relative;}#sk-container-id-1 div.sk-item::before, #sk-container-id-1 div.sk-parallel-item::before {content: \"\";position: absolute;border-left: 1px solid gray;box-sizing: border-box;top: 0;bottom: 0;left: 50%;z-index: -1;}#sk-container-id-1 div.sk-parallel-item {display: flex;flex-direction: column;z-index: 1;position: relative;background-color: white;}#sk-container-id-1 div.sk-parallel-item:first-child::after {align-self: flex-end;width: 50%;}#sk-container-id-1 div.sk-parallel-item:last-child::after {align-self: flex-start;width: 50%;}#sk-container-id-1 div.sk-parallel-item:only-child::after {width: 0;}#sk-container-id-1 div.sk-dashed-wrapped {border: 1px dashed gray;margin: 0 0.4em 0.5em 0.4em;box-sizing: border-box;padding-bottom: 0.4em;background-color: white;}#sk-container-id-1 div.sk-label label {font-family: monospace;font-weight: bold;display: inline-block;line-height: 1.2em;}#sk-container-id-1 div.sk-label-container {text-align: center;}#sk-container-id-1 div.sk-container {/* jupyter's `normalize.less` sets `[hidden] { display: none; }` but bootstrap.min.css set `[hidden] { display: none !important; }` so we also need the `!important` here to be able to override the default hidden behavior on the sphinx rendered scikit-learn.org. See: https://github.com/scikit-learn/scikit-learn/issues/21755 */display: inline-block !important;position: relative;}#sk-container-id-1 div.sk-text-repr-fallback {display: none;}</style><div id=\"sk-container-id-1\" class=\"sk-top-container\"><div class=\"sk-text-repr-fallback\"><pre>LogisticRegression(solver=&#x27;liblinear&#x27;)</pre><b>In a Jupyter environment, please rerun this cell to show the HTML representation or trust the notebook. <br />On GitHub, the HTML representation is unable to render, please try loading this page with nbviewer.org.</b></div><div class=\"sk-container\" hidden><div class=\"sk-item\"><div class=\"sk-estimator sk-toggleable\"><input class=\"sk-toggleable__control sk-hidden--visually\" id=\"sk-estimator-id-1\" type=\"checkbox\" checked><label for=\"sk-estimator-id-1\" class=\"sk-toggleable__label sk-toggleable__label-arrow\">LogisticRegression</label><div class=\"sk-toggleable__content\"><pre>LogisticRegression(solver=&#x27;liblinear&#x27;)</pre></div></div></div></div></div>"
      ],
      "text/plain": [
       "LogisticRegression(solver='liblinear')"
      ]
     },
     "execution_count": 6,
     "metadata": {},
     "output_type": "execute_result"
    }
   ],
   "source": [
    "stopwords = nlp.Defaults.stop_words\n",
    "stopwords_list = list(stopwords)\n",
    "\n",
    "def convert_text_into_features(X, analyzefn=\"word\", range=(1)):\n",
    "    training_vectorizer = CountVectorizer(\n",
    "                                          stop_words=stopwords_list,\n",
    "                                          analyzer=analyzefn,\n",
    "                                          lowercase=True,\n",
    "                                          ngram_range=range)\n",
    "    X_features = training_vectorizer.fit_transform(X)\n",
    "    return X_features, training_vectorizer\n",
    "\n",
    "X_features_train, training_vectorizer = convert_text_into_features(X_train, \"word\", range=(1,2))\n",
    "\n",
    "lr_classifier = LogisticRegression(solver='liblinear')\n",
    "lr_classifier.fit(X_features_train, y_train)\n",
    "\n"
   ]
  },
  {
   "cell_type": "code",
   "execution_count": 7,
   "id": "684a23a0-a63a-4770-b8b6-509c3230a88f",
   "metadata": {},
   "outputs": [
    {
     "name": "stdout",
     "output_type": "stream",
     "text": [
      "Classifying test data\n",
      "Accuracy  = 0.9302884615384616\n"
     ]
    }
   ],
   "source": [
    "X_test_features =  training_vectorizer.transform(X_test)\n",
    "\n",
    "# Classify the test data and see how well you perform\n",
    "# For various evaluation scores see https://scikit-learn.org/stable/modules/model_evaluation.html\n",
    "print(\"Classifying test data\")\n",
    "predicted_labels = lr_classifier.predict(X_test_features)\n",
    "print('Accuracy  = {}'.format(metrics.accuracy_score(predicted_labels,  y_test)))\n"
   ]
  },
  {
   "cell_type": "code",
   "execution_count": 16,
   "id": "52a4f1a9",
   "metadata": {},
   "outputs": [
    {
     "name": "stdout",
     "output_type": "stream",
     "text": [
      "F1  = 0.9036544850498339\n"
     ]
    }
   ],
   "source": [
    "print('F1  = {}'.format(metrics.f1_score(predicted_labels,  y_test, pos_label='y')))"
   ]
  },
  {
   "cell_type": "code",
   "execution_count": 15,
   "id": "80a1a96d",
   "metadata": {},
   "outputs": [
    {
     "data": {
      "text/html": [
       "<style>#sk-container-id-2 {color: black;background-color: white;}#sk-container-id-2 pre{padding: 0;}#sk-container-id-2 div.sk-toggleable {background-color: white;}#sk-container-id-2 label.sk-toggleable__label {cursor: pointer;display: block;width: 100%;margin-bottom: 0;padding: 0.3em;box-sizing: border-box;text-align: center;}#sk-container-id-2 label.sk-toggleable__label-arrow:before {content: \"▸\";float: left;margin-right: 0.25em;color: #696969;}#sk-container-id-2 label.sk-toggleable__label-arrow:hover:before {color: black;}#sk-container-id-2 div.sk-estimator:hover label.sk-toggleable__label-arrow:before {color: black;}#sk-container-id-2 div.sk-toggleable__content {max-height: 0;max-width: 0;overflow: hidden;text-align: left;background-color: #f0f8ff;}#sk-container-id-2 div.sk-toggleable__content pre {margin: 0.2em;color: black;border-radius: 0.25em;background-color: #f0f8ff;}#sk-container-id-2 input.sk-toggleable__control:checked~div.sk-toggleable__content {max-height: 200px;max-width: 100%;overflow: auto;}#sk-container-id-2 input.sk-toggleable__control:checked~label.sk-toggleable__label-arrow:before {content: \"▾\";}#sk-container-id-2 div.sk-estimator input.sk-toggleable__control:checked~label.sk-toggleable__label {background-color: #d4ebff;}#sk-container-id-2 div.sk-label input.sk-toggleable__control:checked~label.sk-toggleable__label {background-color: #d4ebff;}#sk-container-id-2 input.sk-hidden--visually {border: 0;clip: rect(1px 1px 1px 1px);clip: rect(1px, 1px, 1px, 1px);height: 1px;margin: -1px;overflow: hidden;padding: 0;position: absolute;width: 1px;}#sk-container-id-2 div.sk-estimator {font-family: monospace;background-color: #f0f8ff;border: 1px dotted black;border-radius: 0.25em;box-sizing: border-box;margin-bottom: 0.5em;}#sk-container-id-2 div.sk-estimator:hover {background-color: #d4ebff;}#sk-container-id-2 div.sk-parallel-item::after {content: \"\";width: 100%;border-bottom: 1px solid gray;flex-grow: 1;}#sk-container-id-2 div.sk-label:hover label.sk-toggleable__label {background-color: #d4ebff;}#sk-container-id-2 div.sk-serial::before {content: \"\";position: absolute;border-left: 1px solid gray;box-sizing: border-box;top: 0;bottom: 0;left: 50%;z-index: 0;}#sk-container-id-2 div.sk-serial {display: flex;flex-direction: column;align-items: center;background-color: white;padding-right: 0.2em;padding-left: 0.2em;position: relative;}#sk-container-id-2 div.sk-item {position: relative;z-index: 1;}#sk-container-id-2 div.sk-parallel {display: flex;align-items: stretch;justify-content: center;background-color: white;position: relative;}#sk-container-id-2 div.sk-item::before, #sk-container-id-2 div.sk-parallel-item::before {content: \"\";position: absolute;border-left: 1px solid gray;box-sizing: border-box;top: 0;bottom: 0;left: 50%;z-index: -1;}#sk-container-id-2 div.sk-parallel-item {display: flex;flex-direction: column;z-index: 1;position: relative;background-color: white;}#sk-container-id-2 div.sk-parallel-item:first-child::after {align-self: flex-end;width: 50%;}#sk-container-id-2 div.sk-parallel-item:last-child::after {align-self: flex-start;width: 50%;}#sk-container-id-2 div.sk-parallel-item:only-child::after {width: 0;}#sk-container-id-2 div.sk-dashed-wrapped {border: 1px dashed gray;margin: 0 0.4em 0.5em 0.4em;box-sizing: border-box;padding-bottom: 0.4em;background-color: white;}#sk-container-id-2 div.sk-label label {font-family: monospace;font-weight: bold;display: inline-block;line-height: 1.2em;}#sk-container-id-2 div.sk-label-container {text-align: center;}#sk-container-id-2 div.sk-container {/* jupyter's `normalize.less` sets `[hidden] { display: none; }` but bootstrap.min.css set `[hidden] { display: none !important; }` so we also need the `!important` here to be able to override the default hidden behavior on the sphinx rendered scikit-learn.org. See: https://github.com/scikit-learn/scikit-learn/issues/21755 */display: inline-block !important;position: relative;}#sk-container-id-2 div.sk-text-repr-fallback {display: none;}</style><div id=\"sk-container-id-2\" class=\"sk-top-container\"><div class=\"sk-text-repr-fallback\"><pre>RandomForestClassifier()</pre><b>In a Jupyter environment, please rerun this cell to show the HTML representation or trust the notebook. <br />On GitHub, the HTML representation is unable to render, please try loading this page with nbviewer.org.</b></div><div class=\"sk-container\" hidden><div class=\"sk-item\"><div class=\"sk-estimator sk-toggleable\"><input class=\"sk-toggleable__control sk-hidden--visually\" id=\"sk-estimator-id-2\" type=\"checkbox\" checked><label for=\"sk-estimator-id-2\" class=\"sk-toggleable__label sk-toggleable__label-arrow\">RandomForestClassifier</label><div class=\"sk-toggleable__content\"><pre>RandomForestClassifier()</pre></div></div></div></div></div>"
      ],
      "text/plain": [
       "RandomForestClassifier()"
      ]
     },
     "execution_count": 15,
     "metadata": {},
     "output_type": "execute_result"
    }
   ],
   "source": [
    "rf = RandomForestClassifier(n_estimators=100)\n",
    "rf.fit(X_features_train, y_train)"
   ]
  },
  {
   "cell_type": "code",
   "execution_count": 16,
   "id": "d47efa6d",
   "metadata": {},
   "outputs": [
    {
     "name": "stdout",
     "output_type": "stream",
     "text": [
      "Classifying rf test data\n",
      "Accuracy  = 0.7620192307692307\n",
      "F1  = 0.5520361990950226\n"
     ]
    }
   ],
   "source": [
    "print(\"Classifying rf test data\")\n",
    "rfpredicted_labels = rf.predict(X_test_features)\n",
    "print('Accuracy  = {}'.format(metrics.accuracy_score(rfpredicted_labels,  y_test)))\n",
    "print('F1  = {}'.format(metrics.f1_score(rfpredicted_labels,  y_test, pos_label='y')))"
   ]
  },
  {
   "cell_type": "code",
   "execution_count": 40,
   "id": "e0ce2333",
   "metadata": {},
   "outputs": [
    {
     "data": {
      "image/png": "[encoded data removed]",
      "text/plain": [
       "<Figure size 1000x500 with 4 Axes>"
      ]
     },
     "metadata": {},
     "output_type": "display_data"
    }
   ],
   "source": [
    "f, axes = plt.subplots(1, 2, figsize=(10, 5))\n",
    "\n",
    "plt.subplot(1, 2, 1)\n",
    "cm = metrics.confusion_matrix(predicted_labels,  y_test, labels = lr_classifier.classes_)\n",
    "disp = metrics.ConfusionMatrixDisplay(confusion_matrix=cm, display_labels=lr_classifier.classes_)\n",
    "disp.plot(ax = axes[0])\n",
    "plt.title('Logistic Regression')\n",
    "\n",
    "\n",
    "plt.subplot(1, 2, 2)\n",
    "cmrf = metrics.confusion_matrix(rfpredicted_labels,  y_test, labels = rf.classes_)\n",
    "disprf = metrics.ConfusionMatrixDisplay(confusion_matrix=cmrf, display_labels=rf.classes_)\n",
    "disprf.plot(ax = axes[1])\n",
    "plt.title('Random Forest')\n",
    "\n",
    "# plt.subplots_adjust(wspace=0.01, hspace=0.05)\n",
    "plt.show()\n",
    "\n",
    "\n"
   ]
  },
  {
   "cell_type": "code",
   "execution_count": 9,
   "id": "84bf7b7e-a845-4ea2-afb0-a09086b4c92a",
   "metadata": {},
   "outputs": [
    {
     "name": "stdout",
     "output_type": "stream",
     "text": [
      "Most informative features\n",
      "\t-0.6178\tschool         \t\t0.8533\tfuck           \n",
      "\t-0.5357\teat            \t\t0.7436\txd             \n",
      "\t-0.5223\tworking        \t\t0.6089\tfucking        \n",
      "\t-0.5094\tparty          \t\t0.5710\tstupid         \n",
      "\t-0.5065\tplace          \t\t0.5143\tcar            \n",
      "\t-0.4948\trunning        \t\t0.5092\tkitty          \n",
      "\t-0.4753\tfeeling        \t\t0.4765\tbloody         \n",
      "\t-0.4686\tweek           \t\t0.4694\thell           \n",
      "\t-0.4676\tlet            \t\t0.4633\tlaw            \n",
      "\t-0.4663\tteam           \t\t0.4479\tsleep          \n",
      "\t-0.4582\tbit            \t\t0.4472\tperfect        \n",
      "\t-0.4473\tdowntown       \t\t0.4448\tdance          \n",
      "\t-0.4438\tenjoy          \t\t0.4426\thaha           \n",
      "\t-0.4367\ttouch          \t\t0.4310\tfrog           \n",
      "\t-0.4292\tplaying        \t\t0.4305\tshall          \n",
      "\t-0.4243\tsoon           \t\t0.4240\tiphone         \n",
      "\t-0.4232\ttuesday        \t\t0.4234\tfair           \n",
      "\t-0.4217\tmaking         \t\t0.4151\tcali           \n",
      "\t-0.4205\tfeet           \t\t0.4124\tthinking       \n",
      "\t-0.4093\tbirthday wishes\t\t0.4098\tokay           \n"
     ]
    }
   ],
   "source": [
    "def most_informative_features(vectorizer, classifier, n=20):\n",
    "    # Adapted from https://stackoverflow.com/questions/11116697/how-to-get-most-informative-features-for-scikit-learn-classifiers#11116960\n",
    "    feature_names       = vectorizer.get_feature_names_out()\n",
    "    coefs_with_features = sorted(zip(classifier.coef_[0], feature_names))\n",
    "    top                 = zip(coefs_with_features[:n], coefs_with_features[:-(n + 1):-1])\n",
    "    for (coef_1, feature_1), (coef_2, feature_2) in top:\n",
    "        print(\"\\t%.4f\\t%-15s\\t\\t%.4f\\t%-15s\" % (coef_1, feature_1, coef_2, feature_2))\n",
    "\n",
    "print(\"Most informative features\")\n",
    "most_informative_features(training_vectorizer, lr_classifier, 20)\n",
    "\n"
   ]
  }
 ],
 "metadata": {
  "kernelspec": {
   "display_name": "Python 3 (ipykernel)",
   "language": "python",
   "name": "python3"
  },
  "language_info": {
   "codemirror_mode": {
    "name": "ipython",
    "version": 3
   },
   "file_extension": ".py",
   "mimetype": "text/x-python",
   "name": "python",
   "nbconvert_exporter": "python",
   "pygments_lexer": "ipython3",
   "version": "3.9.15"
  }
 },
 "nbformat": 4,
 "nbformat_minor": 5
}
